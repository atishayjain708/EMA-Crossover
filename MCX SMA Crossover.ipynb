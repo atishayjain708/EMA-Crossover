{
 "cells": [
  {
   "cell_type": "code",
   "execution_count": 1,
   "metadata": {},
   "outputs": [
    {
     "data": {
      "text/plain": [
       "'\\nThis script fetches Crude Oil futures daily data from QUANDL and finds out all the buy/sell signals triggered\\naccording to the 50H-50L-15C strategy.\\n'"
      ]
     },
     "execution_count": 1,
     "metadata": {},
     "output_type": "execute_result"
    }
   ],
   "source": [
    "\"\"\"\n",
    "This script fetches Crude Oil futures daily data from QUANDL and finds out all the buy/sell signals triggered\n",
    "according to the 50H-50L-15C strategy.\n",
    "\"\"\""
   ]
  },
  {
   "cell_type": "code",
   "execution_count": 2,
   "metadata": {},
   "outputs": [],
   "source": [
    "import quandl\n",
    "import pandas as pd"
   ]
  },
  {
   "cell_type": "code",
   "execution_count": 3,
   "metadata": {},
   "outputs": [],
   "source": [
    "quandl.ApiConfig.api_key = 'CArpzbCroNv5p85ss6hd'"
   ]
  },
  {
   "cell_type": "code",
   "execution_count": 4,
   "metadata": {},
   "outputs": [
    {
     "data": {
      "text/plain": [
       "'\\nCrude Oil Futures, January 2019, CLF2019, MCX\\nCrude Oil Futures, February 2019, CLG2019, MCX\\nCrude Oil Futures, March 2019, CLH2019, MCX\\nCrude Oil Futures, April 2019, CLJ2019, MCX\\nCrude Oil Futures, May 2019, CLK2019, MCX\\nCrude Oil Futures, June 2019, CLM2019, MCX\\nCrude Oil Futures, July 2019, CLN2019, MCX\\nCrude Oil Futures, August 2019, CLQ2019, MCX\\nCrude Oil Futures, September 2019, CLU2019, MCX\\nCrude Oil Futures, October 2019, CLV2019, MCX\\nCrude Oil Futures, November 2019, CLX2019, MCX\\nCrude Oil Futures, December 2019, CLZ2019, MCX\\n'"
      ]
     },
     "execution_count": 4,
     "metadata": {},
     "output_type": "execute_result"
    }
   ],
   "source": [
    "futs = ['CLF2019',\n",
    "'CLG2019',\n",
    "'CLH2019',\n",
    "'CLJ2019',\n",
    "'CLK2019',\n",
    "'CLM2019',\n",
    "'CLN2019',\n",
    "'CLQ2019',\n",
    "'CLU2019',\n",
    "'CLV2019',\n",
    "'CLX2019',\n",
    "'CLZ2019']\n",
    "\"\"\"\n",
    "Crude Oil Futures, January 2019, CLF2019, MCX\n",
    "Crude Oil Futures, February 2019, CLG2019, MCX\n",
    "Crude Oil Futures, March 2019, CLH2019, MCX\n",
    "Crude Oil Futures, April 2019, CLJ2019, MCX\n",
    "Crude Oil Futures, May 2019, CLK2019, MCX\n",
    "Crude Oil Futures, June 2019, CLM2019, MCX\n",
    "Crude Oil Futures, July 2019, CLN2019, MCX\n",
    "Crude Oil Futures, August 2019, CLQ2019, MCX\n",
    "Crude Oil Futures, September 2019, CLU2019, MCX\n",
    "Crude Oil Futures, October 2019, CLV2019, MCX\n",
    "Crude Oil Futures, November 2019, CLX2019, MCX\n",
    "Crude Oil Futures, December 2019, CLZ2019, MCX\n",
    "\"\"\""
   ]
  },
  {
   "cell_type": "code",
   "execution_count": null,
   "metadata": {},
   "outputs": [],
   "source": [
    "curr_month = 6\n",
    "so = quandl.get(\"MCX/\"+futs[curr_month-1], paginate=True)"
   ]
  },
  {
   "cell_type": "code",
   "execution_count": 6,
   "metadata": {},
   "outputs": [
    {
     "ename": "NameError",
     "evalue": "name 'so' is not defined",
     "output_type": "error",
     "traceback": [
      "\u001b[0;31m---------------------------------------------------------------------------\u001b[0m",
      "\u001b[0;31mNameError\u001b[0m                                 Traceback (most recent call last)",
      "\u001b[0;32m<ipython-input-6-fbaa4beade87>\u001b[0m in \u001b[0;36m<module>\u001b[0;34m\u001b[0m\n\u001b[1;32m      1\u001b[0m \u001b[0;32mfor\u001b[0m \u001b[0mmonth\u001b[0m \u001b[0;32min\u001b[0m \u001b[0mfuts\u001b[0m\u001b[0;34m:\u001b[0m\u001b[0;34m\u001b[0m\u001b[0;34m\u001b[0m\u001b[0m\n\u001b[0;32m----> 2\u001b[0;31m     \u001b[0mso\u001b[0m \u001b[0;34m=\u001b[0m \u001b[0mso\u001b[0m\u001b[0;34m.\u001b[0m\u001b[0mappend\u001b[0m\u001b[0;34m(\u001b[0m\u001b[0mquandl\u001b[0m\u001b[0;34m.\u001b[0m\u001b[0mget\u001b[0m\u001b[0;34m(\u001b[0m\u001b[0;34m\"MCX/\"\u001b[0m\u001b[0;34m+\u001b[0m\u001b[0mmonth\u001b[0m\u001b[0;34m,\u001b[0m \u001b[0mpaginate\u001b[0m\u001b[0;34m=\u001b[0m\u001b[0;32mTrue\u001b[0m\u001b[0;34m)\u001b[0m\u001b[0;34m)\u001b[0m\u001b[0;34m\u001b[0m\u001b[0;34m\u001b[0m\u001b[0m\n\u001b[0m",
      "\u001b[0;31mNameError\u001b[0m: name 'so' is not defined"
     ]
    }
   ],
   "source": [
    "for month in futs:\n",
    "    so = so.append(quandl.get(\"MCX/\"+month, paginate=True))"
   ]
  },
  {
   "cell_type": "code",
   "execution_count": null,
   "metadata": {},
   "outputs": [],
   "source": [
    "so"
   ]
  },
  {
   "cell_type": "code",
   "execution_count": null,
   "metadata": {},
   "outputs": [],
   "source": [
    "so = so[(so != 0).all(1)]"
   ]
  },
  {
   "cell_type": "code",
   "execution_count": null,
   "metadata": {},
   "outputs": [],
   "source": [
    "so.reset_index(drop=True)"
   ]
  },
  {
   "cell_type": "code",
   "execution_count": null,
   "metadata": {},
   "outputs": [],
   "source": [
    "print(so.count())"
   ]
  },
  {
   "cell_type": "code",
   "execution_count": null,
   "metadata": {},
   "outputs": [],
   "source": [
    "short_window = 15\n",
    "long_window = 50\n",
    "signals = pd.DataFrame()\n",
    "signals['signal']=0.0\n",
    "signals['15-C-ema'] = so['Close'].rolling(window=short_window, min_periods=1, center=False).mean()\n",
    "signals['50-H-ema'] = so['High'].rolling(window=long_window, min_periods=1, center=False).mean()\n",
    "signals['50-L-ema'] = so['Low'].rolling(window=long_window, min_periods=1, center=False).mean()\n"
   ]
  },
  {
   "cell_type": "code",
   "execution_count": null,
   "metadata": {},
   "outputs": [],
   "source": [
    "# pd.set_option('display.height', 500)\n",
    "pd.set_option('display.max_rows', 50000)\n",
    "# pd.describe_option('display')\n",
    "signals['50-H-ema']"
   ]
  },
  {
   "cell_type": "code",
   "execution_count": null,
   "metadata": {},
   "outputs": [],
   "source": [
    "for idx, s in signals.iterrows():\n",
    "#     print(s)\n",
    "    if s['15-C-ema']>s['50-H-ema'] and s['15-C-ema']>s['50-L-ema']:\n",
    "        signals['signal'] = 1.0\n",
    "    elif s['15-C-ema']<s['50-H-ema'] and s['15-C-ema']<s['50-L-ema']:\n",
    "        signals['signal'] = -1.0"
   ]
  },
  {
   "cell_type": "code",
   "execution_count": 7,
   "metadata": {},
   "outputs": [
    {
     "ename": "NameError",
     "evalue": "name 'signals' is not defined",
     "output_type": "error",
     "traceback": [
      "\u001b[0;31m---------------------------------------------------------------------------\u001b[0m",
      "\u001b[0;31mNameError\u001b[0m                                 Traceback (most recent call last)",
      "\u001b[0;32m<ipython-input-7-d120178ccdbd>\u001b[0m in \u001b[0;36m<module>\u001b[0;34m\u001b[0m\n\u001b[1;32m      1\u001b[0m \u001b[0ms_prev\u001b[0m \u001b[0;34m=\u001b[0m \u001b[0;36m0\u001b[0m\u001b[0;34m\u001b[0m\u001b[0;34m\u001b[0m\u001b[0m\n\u001b[0;32m----> 2\u001b[0;31m \u001b[0;32mfor\u001b[0m \u001b[0ms\u001b[0m \u001b[0;32min\u001b[0m \u001b[0msignals\u001b[0m\u001b[0;34m[\u001b[0m\u001b[0;34m'signal'\u001b[0m\u001b[0;34m]\u001b[0m\u001b[0;34m:\u001b[0m\u001b[0;34m\u001b[0m\u001b[0;34m\u001b[0m\u001b[0m\n\u001b[0m\u001b[1;32m      3\u001b[0m     \u001b[0;32mif\u001b[0m\u001b[0;34m(\u001b[0m\u001b[0ms\u001b[0m\u001b[0;34m==\u001b[0m\u001b[0;36m1\u001b[0m\u001b[0;34m)\u001b[0m \u001b[0;32mand\u001b[0m \u001b[0ms_prev\u001b[0m \u001b[0;34m==\u001b[0m \u001b[0;34m-\u001b[0m\u001b[0;36m1\u001b[0m\u001b[0;34m:\u001b[0m\u001b[0;34m\u001b[0m\u001b[0;34m\u001b[0m\u001b[0m\n\u001b[1;32m      4\u001b[0m         \u001b[0mprint\u001b[0m\u001b[0;34m(\u001b[0m\u001b[0;34m'B'\u001b[0m\u001b[0;34m)\u001b[0m\u001b[0;34m\u001b[0m\u001b[0;34m\u001b[0m\u001b[0m\n\u001b[1;32m      5\u001b[0m     \u001b[0;32melif\u001b[0m \u001b[0ms\u001b[0m\u001b[0;34m==\u001b[0m\u001b[0;34m-\u001b[0m\u001b[0;36m1\u001b[0m \u001b[0;32mand\u001b[0m \u001b[0ms_prev\u001b[0m \u001b[0;34m==\u001b[0m \u001b[0;36m1\u001b[0m\u001b[0;34m:\u001b[0m\u001b[0;34m\u001b[0m\u001b[0;34m\u001b[0m\u001b[0m\n",
      "\u001b[0;31mNameError\u001b[0m: name 'signals' is not defined"
     ]
    }
   ],
   "source": [
    "s_prev = 0\n",
    "for s in signals['signal']:\n",
    "    if(s==1) and s_prev == -1:\n",
    "        print('B')\n",
    "    elif s==-1 and s_prev == 1:\n",
    "        print('S')\n",
    "    s_prev = s"
   ]
  },
  {
   "cell_type": "code",
   "execution_count": null,
   "metadata": {},
   "outputs": [],
   "source": [
    "from collections import Counter\n",
    "Counter(signals['signal'])"
   ]
  },
  {
   "cell_type": "code",
   "execution_count": null,
   "metadata": {},
   "outputs": [],
   "source": [
    "so[\"Close\"]\n",
    "# so.index"
   ]
  },
  {
   "cell_type": "code",
   "execution_count": null,
   "metadata": {},
   "outputs": [],
   "source": []
  },
  {
   "cell_type": "code",
   "execution_count": null,
   "metadata": {},
   "outputs": [],
   "source": []
  }
 ],
 "metadata": {
  "kernelspec": {
   "display_name": "Python 3",
   "language": "python",
   "name": "python3"
  },
  "language_info": {
   "codemirror_mode": {
    "name": "ipython",
    "version": 3
   },
   "file_extension": ".py",
   "mimetype": "text/x-python",
   "name": "python",
   "nbconvert_exporter": "python",
   "pygments_lexer": "ipython3",
   "version": "3.7.4"
  }
 },
 "nbformat": 4,
 "nbformat_minor": 2
}
